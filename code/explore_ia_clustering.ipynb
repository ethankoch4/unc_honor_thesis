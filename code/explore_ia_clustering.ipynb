{
 "cells": [
  {
   "cell_type": "code",
   "execution_count": 1,
   "metadata": {
    "collapsed": true
   },
   "outputs": [],
   "source": [
    "import json\n",
    "import matplotlib.pyplot as plt\n",
    "plt.style.use('fivethirtyeight')\n",
    "\n",
    "%matplotlib inline"
   ]
  },
  {
   "cell_type": "code",
   "execution_count": 2,
   "metadata": {},
   "outputs": [
    {
     "name": "stdout",
     "output_type": "stream",
     "text": [
      "dict_keys(['n_clusters', 'true_labels', 'node_ids', 'kmeans_labels', 'hierarchical_labels'])\n"
     ]
    }
   ],
   "source": [
    "data = json.load(open('../data/ia_doc2vec_clustering.json'))\n",
    "print(data.keys())"
   ]
  },
  {
   "cell_type": "code",
   "execution_count": 3,
   "metadata": {},
   "outputs": [
    {
     "name": "stderr",
     "output_type": "stream",
     "text": [
      "C:\\Users\\nebboy4\\Anaconda3\\envs\\github_env\\lib\\site-packages\\gensim\\utils.py:860: UserWarning: detected Windows; aliasing chunkize to chunkize_serial\n",
      "  warnings.warn(\"detected Windows; aliasing chunkize to chunkize_serial\")\n"
     ]
    }
   ],
   "source": [
    "from sklearn import metrics\n",
    "from gensim import models"
   ]
  },
  {
   "cell_type": "code",
   "execution_count": 4,
   "metadata": {
    "collapsed": true
   },
   "outputs": [],
   "source": [
    "from doc2vec.doc2vec import doc2vec\n",
    "from utilities import score_purity\n",
    "from utilities import score_agreement"
   ]
  },
  {
   "cell_type": "code",
   "execution_count": 5,
   "metadata": {
    "collapsed": true
   },
   "outputs": [],
   "source": [
    "d2v_model = doc2vec(model=models.Doc2Vec.load(\"../data/scotus/scotus_model.doc2vec\"),label_docs=False)"
   ]
  },
  {
   "cell_type": "code",
   "execution_count": 6,
   "metadata": {
    "collapsed": true
   },
   "outputs": [],
   "source": [
    "embeddings = d2v_model.model.docvecs"
   ]
  },
  {
   "cell_type": "code",
   "execution_count": 7,
   "metadata": {},
   "outputs": [
    {
     "name": "stdout",
     "output_type": "stream",
     "text": [
      "complete\n"
     ]
    }
   ],
   "source": [
    "node_order = {}\n",
    "node_ids = []\n",
    "\n",
    "for i in range(len(data['node_ids'])):\n",
    "    node_order[i] = data['node_ids'][i]\n",
    "    node_ids.append(data['node_ids'][i])\n",
    "\n",
    "X = [embeddings[tag].tolist() for tag in node_ids]\n",
    "\n",
    "k_to_kmeans = [data['kmeans_labels'][data['node_ids'].index(n_id)] for n_id in node_ids]\n",
    "k_to_hierarchical = [data['hierarchical_labels'][data['node_ids'].index(n_id)] for n_id in node_ids]\n",
    "print('complete')"
   ]
  },
  {
   "cell_type": "code",
   "execution_count": 8,
   "metadata": {},
   "outputs": [
    {
     "name": "stdout",
     "output_type": "stream",
     "text": [
      "{'accuracy_hierarchical': 0.16593150439304286, 'accuracy_kmeans': 0.038407746100053791, 'nmi_hierarchical': 0.20405893511016829, 'nmi_kmeans': 0.15600332421952043, 'purity_hierarchical': 0.5696611081226466, 'purity_kmeans': 0.22431414739107047, 'sil_hierarchical': 0.00084685531903025163, 'sil_kmeans': -0.041730772084732089}\n"
     ]
    }
   ],
   "source": [
    "scores = {}\n",
    "\n",
    "scores['accuracy_hierarchical'] = metrics.accuracy_score(data['true_labels'], data['hierarchical_labels'])\n",
    "scores['accuracy_kmeans'] = metrics.accuracy_score(data['true_labels'], data['kmeans_labels'])\n",
    "\n",
    "scores['nmi_hierarchical'] = metrics.normalized_mutual_info_score(data['true_labels'], data['hierarchical_labels'])\n",
    "scores['nmi_kmeans'] = metrics.normalized_mutual_info_score(data['true_labels'], data['kmeans_labels'])\n",
    "\n",
    "scores['purity_hierarchical'] = score_purity(data['true_labels'], data['hierarchical_labels'])\n",
    "scores['purity_kmeans'] = score_purity(data['true_labels'], data['kmeans_labels'])\n",
    "\n",
    "scores['sil_hierarchical'] = metrics.silhouette_score(X, k_to_hierarchical)\n",
    "scores['sil_kmeans'] = metrics.silhouette_score(X, k_to_kmeans)\n",
    "\n",
    "#scores['agreement'][k] = score_agreement(v['kmeans_labels'], v['hierarchical_labels'])\n",
    "\n",
    "print(scores)"
   ]
  },
  {
   "cell_type": "code",
   "execution_count": 12,
   "metadata": {},
   "outputs": [
    {
     "name": "stdout",
     "output_type": "stream",
     "text": [
      "purity_hierarchical ----------- 0.5696611081226466\n",
      "purity_kmeans ----------------- 0.22431414739107047\n",
      "nmi_hierarchical -------------- 0.20405893511\n",
      "accuracy_hierarchical --------- 0.165931504393\n",
      "nmi_kmeans -------------------- 0.15600332422\n",
      "accuracy_kmeans --------------- 0.0384077461001\n",
      "sil_hierarchical -------------- 0.00084685531903\n",
      "sil_kmeans -------------------- -0.0417307720847\n"
     ]
    }
   ],
   "source": [
    "sort_scores = [(k, scores[k]) for k in sorted(scores, key=scores.get, reverse=True)]\n",
    "\n",
    "for s in sort_scores:\n",
    "    print(s[0],'-'*(30-len(s[0])),s[1])"
   ]
  },
  {
   "cell_type": "code",
   "execution_count": null,
   "metadata": {
    "collapsed": true
   },
   "outputs": [],
   "source": []
  },
  {
   "cell_type": "markdown",
   "metadata": {},
   "source": [
    "# Classification"
   ]
  },
  {
   "cell_type": "code",
   "execution_count": 16,
   "metadata": {},
   "outputs": [
    {
     "name": "stdout",
     "output_type": "stream",
     "text": [
      "22308\n",
      "5577\n"
     ]
    }
   ],
   "source": [
    "X_train = X[:int(len(X)*.8)]\n",
    "print(len(X_train))\n",
    "X_test = X[-int(len(X)-int(len(X)*.8)):]\n",
    "print(len(X_test))"
   ]
  },
  {
   "cell_type": "code",
   "execution_count": 17,
   "metadata": {},
   "outputs": [
    {
     "name": "stdout",
     "output_type": "stream",
     "text": [
      "27885\n"
     ]
    }
   ],
   "source": [
    "print(len(X))"
   ]
  },
  {
   "cell_type": "code",
   "execution_count": null,
   "metadata": {
    "collapsed": true
   },
   "outputs": [],
   "source": []
  }
 ],
 "metadata": {
  "kernelspec": {
   "display_name": "Python 3",
   "language": "python",
   "name": "python3"
  },
  "language_info": {
   "codemirror_mode": {
    "name": "ipython",
    "version": 3
   },
   "file_extension": ".py",
   "mimetype": "text/x-python",
   "name": "python",
   "nbconvert_exporter": "python",
   "pygments_lexer": "ipython3",
   "version": "3.6.1"
  }
 },
 "nbformat": 4,
 "nbformat_minor": 2
}
