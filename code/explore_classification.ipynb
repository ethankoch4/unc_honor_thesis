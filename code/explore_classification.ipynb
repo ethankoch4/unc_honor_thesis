{
 "cells": [
  {
   "cell_type": "code",
   "execution_count": 23,
   "metadata": {},
   "outputs": [],
   "source": [
    "import json\n",
    "import random\n",
    "from gensim import models\n",
    "from random import shuffle\n",
    "import numpy as np\n",
    "from sklearn.linear_model import LogisticRegressionCV\n",
    "from doc2vec.doc2vec import doc2vec\n",
    "from node2vec.node2vec import node2vec\n",
    "\n",
    "random.seed(42)\n",
    "np.random.seed(42)"
   ]
  },
  {
   "cell_type": "markdown",
   "metadata": {},
   "source": [
    "# Load Doc2Vec Model & Get Vectors"
   ]
  },
  {
   "cell_type": "code",
   "execution_count": 2,
   "metadata": {
    "collapsed": true
   },
   "outputs": [],
   "source": [
    "d2v_model = doc2vec(model=models.Doc2Vec.load(\"../data/scotus/scotus_model.doc2vec\"),label_docs=False)\n",
    "n2v_model = node2vec(model=models.Word2Vec.load(\"../data/scotus_n2v_1.0_1.0_mini.node2vec\"))"
   ]
  },
  {
   "cell_type": "code",
   "execution_count": 3,
   "metadata": {
    "collapsed": true
   },
   "outputs": [],
   "source": [
    "d2v_embeddings = d2v_model.model.docvecs\n",
    "n2v_embeddings = n2v_model.model.wv"
   ]
  },
  {
   "cell_type": "code",
   "execution_count": 7,
   "metadata": {},
   "outputs": [],
   "source": [
    "data_d2v = json.load(open('../data/ia_doc2vec_clustering.json'))\n",
    "data_n2v = json.load(open('../data/ia_node2vec_clustering_1.0_1.0.json'))"
   ]
  },
  {
   "cell_type": "code",
   "execution_count": 10,
   "metadata": {},
   "outputs": [],
   "source": [
    "node_order_d2v = {}\n",
    "node_ids_d2v = []\n",
    "node_order_n2v = {}\n",
    "node_ids_n2v = []\n",
    "\n",
    "for i in range(len(data_d2v['node_ids'])):\n",
    "    node_order_d2v[i] = data_d2v['node_ids'][i]\n",
    "    node_ids_d2v.append(data_d2v['node_ids'][i])\n",
    "\n",
    "for i in range(len(data_n2v['node_ids'])):\n",
    "    node_order_n2v[i] = data_n2v['node_ids'][i]\n",
    "    node_ids_n2v.append(data_n2v['node_ids'][i])\n",
    "    \n",
    "X_d2v = [d2v_embeddings[tag].tolist() for tag in node_ids_d2v]\n",
    "X_n2v = [n2v_embeddings[tag].tolist() for tag in node_ids_n2v]"
   ]
  },
  {
   "cell_type": "code",
   "execution_count": 16,
   "metadata": {},
   "outputs": [
    {
     "name": "stdout",
     "output_type": "stream",
     "text": [
      "complete\n"
     ]
    }
   ],
   "source": [
    "names_d2v = []\n",
    "vectors_d2v = []\n",
    "names_n2v = []\n",
    "vectors_n2v = []\n",
    "\n",
    "for tag,_ in d2v_embeddings.doctags.items():\n",
    "    names_d2v.append(tag)\n",
    "    vectors_d2v.append(d2v_embeddings[tag].tolist())\n",
    "\n",
    "for tag,_ in n2v_embeddings.vocab.items():\n",
    "    names_n2v.append(tag)\n",
    "    vectors_n2v.append(n2v_embeddings[tag].tolist())\n",
    "    \n",
    "print('complete')"
   ]
  },
  {
   "cell_type": "code",
   "execution_count": 21,
   "metadata": {},
   "outputs": [],
   "source": [
    "name_to_ia = json.load(open('../data/name_to_ia_mini.json'))"
   ]
  },
  {
   "cell_type": "code",
   "execution_count": 26,
   "metadata": {},
   "outputs": [
    {
     "name": "stdout",
     "output_type": "stream",
     "text": [
      "23731 23731\n",
      "4154 4154\n",
      "23759 23759\n",
      "4126 4126\n"
     ]
    }
   ],
   "source": [
    "mask_d2v = np.random.rand(len(names_d2v)) < 0.85\n",
    "name_train_d2v = np.array(names_d2v)[mask_d2v]\n",
    "name_test_d2v = np.array(names_d2v)[~mask_d2v]\n",
    "mask_n2v = np.random.rand(len(names_n2v)) < 0.85\n",
    "name_train_n2v = np.array(names_n2v)[mask_n2v]\n",
    "name_test_n2v = np.array(names_n2v)[~mask_n2v]\n",
    "\n",
    "X_train_d2v = []\n",
    "Y_train_d2v = []\n",
    "X_test_d2v = []\n",
    "Y_test_d2v = []\n",
    "X_train_n2v = []\n",
    "Y_train_n2v = []\n",
    "X_test_n2v = []\n",
    "Y_test_n2v = []\n",
    "\n",
    "for name,vec in zip(names_d2v,vectors_d2v):\n",
    "    if name in name_train_d2v:\n",
    "        X_train_d2v.append(vec)\n",
    "        Y_train_d2v.append(int(name_to_ia[name]))\n",
    "    elif name in name_test_d2v:\n",
    "        X_test_d2v.append(vec)\n",
    "        Y_test_d2v.append(int(name_to_ia[name]))\n",
    "    else:\n",
    "        print('D2V PROBLEM WITH:',name)\n",
    "\n",
    "for name,vec in zip(names_n2v,vectors_n2v):\n",
    "    if name in name_train_n2v:\n",
    "        X_train_n2v.append(vec)\n",
    "        Y_train_n2v.append(int(name_to_ia[name]))\n",
    "    elif name in name_test_n2v:\n",
    "        X_test_n2v.append(vec)\n",
    "        Y_test_n2v.append(int(name_to_ia[name]))\n",
    "    else:\n",
    "        print('N2V PROBLEM WITH:',name)\n",
    "\n",
    "print(len(X_train_d2v),len(Y_train_d2v))\n",
    "print(len(X_test_d2v),len(Y_test_d2v))\n",
    "print(len(X_train_n2v),len(Y_train_n2v))\n",
    "print(len(X_test_n2v),len(Y_test_n2v))"
   ]
  },
  {
   "cell_type": "code",
   "execution_count": 37,
   "metadata": {
    "collapsed": true
   },
   "outputs": [],
   "source": [
    "d2v_log_reg = LogisticRegressionCV([.01,.1,1,10,100],\n",
    "                                   penalty='l2',\n",
    "                                   scoring='accuracy',\n",
    "                                   solver='sag',\n",
    "                                   n_jobs=-1,\n",
    "                                   verbose=1,\n",
    "                                   refit=True,\n",
    "                                   multi_class='multinomial'\n",
    "                                   )\n",
    "\n",
    "n2v_log_reg = LogisticRegressionCV([.01,.1,1,10,100],\n",
    "                                   penalty='l2',\n",
    "                                   scoring='accuracy',\n",
    "                                   solver='sag',\n",
    "                                   n_jobs=-1,\n",
    "                                   verbose=1,\n",
    "                                   refit=True,\n",
    "                                   multi_class='multinomial'\n",
    "                                   )"
   ]
  },
  {
   "cell_type": "code",
   "execution_count": 38,
   "metadata": {},
   "outputs": [
    {
     "name": "stdout",
     "output_type": "stream",
     "text": [
      "convergence after 63 epochs took 47 seconds\n",
      "convergence after 64 epochs took 48 seconds\n",
      "convergence after 64 epochs took 48 seconds\n",
      "max_iter reached after 77 seconds\n",
      "max_iter reached after 80 seconds\n",
      "max_iter reached after 81 seconds\n",
      "max_iter reached after 75 seconds\n",
      "max_iter reached after 73 seconds\n",
      "max_iter reached after 73 seconds\n",
      "max_iter reached after 68 seconds\n",
      "max_iter reached after 69 seconds\n",
      "max_iter reached after 70 seconds\n",
      "max_iter reached after 72 seconds\n",
      "max_iter reached after 71 seconds\n",
      "max_iter reached after 70 seconds\n"
     ]
    },
    {
     "name": "stderr",
     "output_type": "stream",
     "text": [
      "[Parallel(n_jobs=-1)]: Done   3 out of   3 | elapsed:  5.7min finished\n"
     ]
    },
    {
     "data": {
      "text/plain": [
       "LogisticRegressionCV(Cs=[0.01, 0.1, 1, 10, 100], class_weight=None, cv=None,\n",
       "           dual=False, fit_intercept=True, intercept_scaling=1.0,\n",
       "           max_iter=100, multi_class='multinomial', n_jobs=-1,\n",
       "           penalty='l2', random_state=None, refit=True, scoring='accuracy',\n",
       "           solver='sag', tol=0.0001, verbose=1)"
      ]
     },
     "execution_count": 38,
     "metadata": {},
     "output_type": "execute_result"
    }
   ],
   "source": [
    "d2v_log_reg.fit(X_train_d2v, Y_train_d2v)"
   ]
  },
  {
   "cell_type": "code",
   "execution_count": 39,
   "metadata": {},
   "outputs": [
    {
     "name": "stdout",
     "output_type": "stream",
     "text": [
      "convergence after 20 epochs took 17 seconds\n",
      "convergence after 20 epochs took 17 seconds\n",
      "convergence after 20 epochs took 17 seconds\n",
      "convergence after 40 epochs took 20 seconds\n",
      "convergence after 39 epochs took 20 seconds\n",
      "convergence after 41 epochs took 21 seconds\n",
      "convergence after 74 epochs took 38 seconds\n",
      "convergence after 74 epochs took 37 seconds\n",
      "convergence after 76 epochs took 38 seconds\n",
      "max_iter reached after 52 seconds\n",
      "max_iter reached after 52 seconds\n",
      "max_iter reached after 53 seconds\n",
      "max_iter reached after 58 seconds\n",
      "max_iter reached after 58 seconds\n",
      "max_iter reached after 58 seconds\n"
     ]
    },
    {
     "name": "stderr",
     "output_type": "stream",
     "text": [
      "[Parallel(n_jobs=-1)]: Done   3 out of   3 | elapsed:  3.1min finished\n"
     ]
    },
    {
     "data": {
      "text/plain": [
       "LogisticRegressionCV(Cs=[0.01, 0.1, 1, 10, 100], class_weight=None, cv=None,\n",
       "           dual=False, fit_intercept=True, intercept_scaling=1.0,\n",
       "           max_iter=100, multi_class='multinomial', n_jobs=-1,\n",
       "           penalty='l2', random_state=None, refit=True, scoring='accuracy',\n",
       "           solver='sag', tol=0.0001, verbose=1)"
      ]
     },
     "execution_count": 39,
     "metadata": {},
     "output_type": "execute_result"
    }
   ],
   "source": [
    "n2v_log_reg.fit(X_train_n2v, Y_train_n2v)"
   ]
  },
  {
   "cell_type": "code",
   "execution_count": 40,
   "metadata": {
    "collapsed": true
   },
   "outputs": [],
   "source": [
    "import pickle\n",
    "pickle.dump(d2v_log_reg, open('../data/d2v_log_reg_first.pickle', 'wb'))\n",
    "pickle.dump(n2v_log_reg, open('../data/n2v_log_reg_first.pickle', 'wb'))"
   ]
  },
  {
   "cell_type": "code",
   "execution_count": 41,
   "metadata": {},
   "outputs": [
    {
     "name": "stdout",
     "output_type": "stream",
     "text": [
      "0.674049109292\n"
     ]
    }
   ],
   "source": [
    "print(d2v_log_reg.score(X_test_d2v,Y_test_d2v))"
   ]
  },
  {
   "cell_type": "code",
   "execution_count": 42,
   "metadata": {},
   "outputs": [
    {
     "name": "stdout",
     "output_type": "stream",
     "text": [
      "0.571013087736\n"
     ]
    }
   ],
   "source": [
    "print(n2v_log_reg.score(X_test_n2v,Y_test_n2v))"
   ]
  },
  {
   "cell_type": "code",
   "execution_count": 43,
   "metadata": {
    "scrolled": true
   },
   "outputs": [],
   "source": [
    "TESTING = False\n",
    "if TESTING:\n",
    "    x = [[random.uniform(0,100) for _ in range(300)] for _i_ in range(3000)]\n",
    "    y = [int(random.uniform(0,1) > 0.5) for _ in range(3000)]\n",
    "    a = LogisticRegressionCV([.01,.1,1,10,100],\n",
    "                             penalty='l2',\n",
    "                             scoring='accuracy',\n",
    "                             solver='sag',\n",
    "                             n_jobs=-1,\n",
    "                             verbose=1,\n",
    "                             refit=True,\n",
    "                             multi_class='multinomial'\n",
    "                            )\n",
    "    a.fit(x,y)"
   ]
  },
  {
   "cell_type": "code",
   "execution_count": null,
   "metadata": {
    "collapsed": true
   },
   "outputs": [],
   "source": []
  }
 ],
 "metadata": {
  "kernelspec": {
   "display_name": "Python 3",
   "language": "python",
   "name": "python3"
  },
  "language_info": {
   "codemirror_mode": {
    "name": "ipython",
    "version": 3
   },
   "file_extension": ".py",
   "mimetype": "text/x-python",
   "name": "python",
   "nbconvert_exporter": "python",
   "pygments_lexer": "ipython3",
   "version": "3.6.1"
  }
 },
 "nbformat": 4,
 "nbformat_minor": 2
}
