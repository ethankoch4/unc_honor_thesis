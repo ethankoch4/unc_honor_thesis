{
 "cells": [
  {
   "cell_type": "code",
   "execution_count": 1,
   "metadata": {},
   "outputs": [
    {
     "name": "stderr",
     "output_type": "stream",
     "text": [
      "C:\\Users\\nebboy4\\Anaconda3\\envs\\github_env\\lib\\site-packages\\gensim\\utils.py:1167: UserWarning: detected Windows; aliasing chunkize to chunkize_serial\n",
      "  warnings.warn(\"detected Windows; aliasing chunkize to chunkize_serial\")\n"
     ]
    }
   ],
   "source": [
    "import json\n",
    "import random\n",
    "from gensim import models\n",
    "from random import shuffle\n",
    "import numpy as np\n",
    "from sklearn.linear_model import LogisticRegressionCV\n",
    "from doc2vec.doc2vec import doc2vec\n",
    "from node2vec.node2vec import node2vec\n",
    "\n",
    "random.seed(42)\n",
    "np.random.seed(42)"
   ]
  },
  {
   "cell_type": "markdown",
   "metadata": {},
   "source": [
    "# Load Doc2Vec Model & Get Vectors"
   ]
  },
  {
   "cell_type": "code",
   "execution_count": 2,
   "metadata": {
    "collapsed": true
   },
   "outputs": [],
   "source": [
    "d2v_model = doc2vec(model=models.Doc2Vec.load(\"../data/scotus/scotus_model.doc2vec\"),label_docs=False)\n",
    "n2v_model = node2vec(model=models.Word2Vec.load(\"../data/scotus_n2v_1.0_1.0_mini.node2vec\"))"
   ]
  },
  {
   "cell_type": "code",
   "execution_count": 3,
   "metadata": {
    "collapsed": true
   },
   "outputs": [],
   "source": [
    "d2v_embeddings = d2v_model.model.docvecs\n",
    "n2v_embeddings = n2v_model.model.wv"
   ]
  },
  {
   "cell_type": "code",
   "execution_count": 4,
   "metadata": {
    "collapsed": true
   },
   "outputs": [],
   "source": [
    "data_d2v = json.load(open('../data/ia_doc2vec_clustering.json'))\n",
    "data_n2v = json.load(open('../data/ia_node2vec_clustering_1.0_1.0.json'))"
   ]
  },
  {
   "cell_type": "code",
   "execution_count": 5,
   "metadata": {
    "collapsed": true
   },
   "outputs": [],
   "source": [
    "node_order_d2v = {}\n",
    "node_ids_d2v = []\n",
    "node_order_n2v = {}\n",
    "node_ids_n2v = []\n",
    "\n",
    "for i in range(len(data_d2v['node_ids'])):\n",
    "    node_order_d2v[i] = data_d2v['node_ids'][i]\n",
    "    node_ids_d2v.append(data_d2v['node_ids'][i])\n",
    "\n",
    "for i in range(len(data_n2v['node_ids'])):\n",
    "    node_order_n2v[i] = data_n2v['node_ids'][i]\n",
    "    node_ids_n2v.append(data_n2v['node_ids'][i])\n",
    "    \n",
    "X_d2v = [d2v_embeddings[tag].tolist() for tag in node_ids_d2v]\n",
    "X_n2v = [n2v_embeddings[tag].tolist() for tag in node_ids_n2v]"
   ]
  },
  {
   "cell_type": "code",
   "execution_count": 6,
   "metadata": {},
   "outputs": [
    {
     "name": "stdout",
     "output_type": "stream",
     "text": [
      "complete\n"
     ]
    }
   ],
   "source": [
    "names_d2v = []\n",
    "vectors_d2v = []\n",
    "names_n2v = []\n",
    "vectors_n2v = []\n",
    "\n",
    "for tag,_ in d2v_embeddings.doctags.items():\n",
    "    names_d2v.append(tag)\n",
    "    vectors_d2v.append(d2v_embeddings[tag].tolist())\n",
    "\n",
    "for tag,_ in n2v_embeddings.vocab.items():\n",
    "    names_n2v.append(tag)\n",
    "    vectors_n2v.append(n2v_embeddings[tag].tolist())\n",
    "    \n",
    "print('complete')"
   ]
  },
  {
   "cell_type": "code",
   "execution_count": 7,
   "metadata": {
    "collapsed": true
   },
   "outputs": [],
   "source": [
    "name_to_ia = json.load(open('../data/name_to_ia_mini.json'))"
   ]
  },
  {
   "cell_type": "code",
   "execution_count": 34,
   "metadata": {},
   "outputs": [
    {
     "name": "stdout",
     "output_type": "stream",
     "text": [
      "23762 23762\n",
      "4123 4123\n",
      "23774 23774\n",
      "4111 4111\n",
      "23762 23762\n",
      "4123 4123\n"
     ]
    }
   ],
   "source": [
    "mask_d2v = np.random.rand(len(names_d2v)) < 0.85\n",
    "name_train_d2v = np.array(names_d2v)[mask_d2v]\n",
    "name_test_d2v = np.array(names_d2v)[~mask_d2v]\n",
    "mask_n2v = np.random.rand(len(names_n2v)) < 0.85\n",
    "name_train_n2v = np.array(names_n2v)[mask_n2v]\n",
    "name_test_n2v = np.array(names_n2v)[~mask_n2v]\n",
    "\n",
    "X_train_d2v = []\n",
    "Y_train_d2v = []\n",
    "X_test_d2v = []\n",
    "Y_test_d2v = []\n",
    "X_train_n2v = []\n",
    "Y_train_n2v = []\n",
    "X_test_n2v = []\n",
    "Y_test_n2v = []\n",
    "X_train_both = {}\n",
    "Y_train_both = {}\n",
    "X_test_both = {}\n",
    "Y_test_both = {}\n",
    "\n",
    "for name,vec in zip(names_d2v,vectors_d2v):\n",
    "    if name in name_train_d2v:\n",
    "        X_train_d2v.append(vec)\n",
    "        Y_train_d2v.append(int(name_to_ia[name]))\n",
    "        X_train_both[name] = vec\n",
    "        Y_train_both[name] = int(name_to_ia[name])\n",
    "    elif name in name_test_d2v:\n",
    "        X_test_d2v.append(vec)\n",
    "        Y_test_d2v.append(int(name_to_ia[name]))\n",
    "        X_test_both[name] = vec\n",
    "        Y_test_both[name] = int(name_to_ia[name])\n",
    "    else:\n",
    "        print('D2V PROBLEM WITH:',name)\n",
    "\n",
    "for name,vec in zip(names_n2v,vectors_n2v):\n",
    "    if name in name_train_n2v:\n",
    "        X_train_n2v.append(vec)\n",
    "        Y_train_n2v.append(int(name_to_ia[name]))\n",
    "    elif name in name_test_n2v:\n",
    "        X_test_n2v.append(vec)\n",
    "        Y_test_n2v.append(int(name_to_ia[name]))\n",
    "    else:\n",
    "        print('N2V PROBLEM WITH:',name)\n",
    "    if name in name_train_d2v:\n",
    "        X_train_both[name] = X_train_both[name] + vec\n",
    "    elif name in name_test_d2v:\n",
    "        X_test_both[name] = X_test_both[name] + vec\n",
    "\n",
    "print(len(X_train_d2v),len(Y_train_d2v))\n",
    "print(len(X_test_d2v),len(Y_test_d2v))\n",
    "print(len(X_train_n2v),len(Y_train_n2v))\n",
    "print(len(X_test_n2v),len(Y_test_n2v))\n",
    "print(len(X_train_both),len(Y_train_both))\n",
    "print(len(X_test_both),len(Y_test_both))"
   ]
  },
  {
   "cell_type": "code",
   "execution_count": 35,
   "metadata": {
    "collapsed": true
   },
   "outputs": [],
   "source": [
    "train_names = list(X_train_both.keys())\n",
    "X_train_both = [X_train_both[n] for n in train_names]\n",
    "Y_train_both = [Y_train_both[n] for n in train_names]\n",
    "\n",
    "test_names = list(X_test_both.keys())\n",
    "X_test_both = [X_test_both[n] for n in test_names]\n",
    "Y_test_both = [Y_test_both[n] for n in test_names]"
   ]
  },
  {
   "cell_type": "code",
   "execution_count": 20,
   "metadata": {
    "collapsed": true
   },
   "outputs": [],
   "source": [
    "d2v_log_reg = LogisticRegressionCV([.01,.1,1,10,100],\n",
    "                                   penalty='l2',\n",
    "                                   scoring='accuracy',\n",
    "                                   solver='sag',\n",
    "                                   n_jobs=-1,\n",
    "                                   verbose=1,\n",
    "                                   refit=True,\n",
    "                                   multi_class='multinomial'\n",
    "                                   )\n",
    "\n",
    "n2v_log_reg = LogisticRegressionCV([.01,.1,1,10,100],\n",
    "                                   penalty='l2',\n",
    "                                   scoring='accuracy',\n",
    "                                   solver='sag',\n",
    "                                   n_jobs=-1,\n",
    "                                   verbose=1,\n",
    "                                   refit=True,\n",
    "                                   multi_class='multinomial'\n",
    "                                   )"
   ]
  },
  {
   "cell_type": "code",
   "execution_count": 36,
   "metadata": {
    "collapsed": true
   },
   "outputs": [],
   "source": [
    "both_log_reg = LogisticRegressionCV([.01,.1,1,10,100],\n",
    "                                   penalty='l2',\n",
    "                                   scoring='accuracy',\n",
    "                                   solver='sag',\n",
    "                                   n_jobs=-1,\n",
    "                                   verbose=1,\n",
    "                                   refit=True,\n",
    "                                   multi_class='multinomial'\n",
    "                                   )"
   ]
  },
  {
   "cell_type": "code",
   "execution_count": 25,
   "metadata": {},
   "outputs": [
    {
     "name": "stdout",
     "output_type": "stream",
     "text": [
      "convergence after 63 epochs took 25 seconds\n",
      "convergence after 64 epochs took 27 seconds\n",
      "convergence after 65 epochs took 28 seconds\n",
      "max_iter reached after 49 seconds\n",
      "max_iter reached after 51 seconds\n",
      "max_iter reached after 51 seconds\n",
      "max_iter reached after 50 seconds\n",
      "max_iter reached after 53 seconds\n",
      "max_iter reached after 54 seconds\n",
      "max_iter reached after 49 seconds\n",
      "max_iter reached after 48 seconds\n",
      "max_iter reached after 49 seconds\n",
      "max_iter reached after 44 seconds\n",
      "max_iter reached after 44 seconds\n",
      "max_iter reached after 43 seconds\n"
     ]
    },
    {
     "name": "stderr",
     "output_type": "stream",
     "text": [
      "[Parallel(n_jobs=-1)]: Done   3 out of   3 | elapsed:  3.8min finished\n"
     ]
    },
    {
     "data": {
      "text/plain": [
       "LogisticRegressionCV(Cs=[0.01, 0.1, 1, 10, 100], class_weight=None, cv=None,\n",
       "           dual=False, fit_intercept=True, intercept_scaling=1.0,\n",
       "           max_iter=100, multi_class='multinomial', n_jobs=-1,\n",
       "           penalty='l2', random_state=None, refit=True, scoring='accuracy',\n",
       "           solver='sag', tol=0.0001, verbose=1)"
      ]
     },
     "execution_count": 25,
     "metadata": {},
     "output_type": "execute_result"
    }
   ],
   "source": [
    "d2v_log_reg.fit(X_train_d2v, Y_train_d2v)"
   ]
  },
  {
   "cell_type": "code",
   "execution_count": 26,
   "metadata": {},
   "outputs": [
    {
     "name": "stdout",
     "output_type": "stream",
     "text": [
      "convergence after 21 epochs took 9 seconds\n",
      "convergence after 20 epochs took 9 seconds\n",
      "convergence after 21 epochs took 9 seconds\n",
      "convergence after 39 epochs took 16 seconds\n",
      "convergence after 39 epochs took 17 seconds\n",
      "convergence after 40 epochs took 18 seconds\n",
      "convergence after 77 epochs took 33 seconds\n",
      "convergence after 77 epochs took 36 seconds\n",
      "convergence after 76 epochs took 35 seconds\n",
      "max_iter reached after 43 seconds\n",
      "max_iter reached after 45 seconds\n",
      "max_iter reached after 45 seconds\n",
      "max_iter reached after 42 seconds\n",
      "max_iter reached after 48 seconds\n",
      "max_iter reached after 49 seconds\n"
     ]
    },
    {
     "name": "stderr",
     "output_type": "stream",
     "text": [
      "[Parallel(n_jobs=-1)]: Done   3 out of   3 | elapsed:  2.6min finished\n"
     ]
    },
    {
     "data": {
      "text/plain": [
       "LogisticRegressionCV(Cs=[0.01, 0.1, 1, 10, 100], class_weight=None, cv=None,\n",
       "           dual=False, fit_intercept=True, intercept_scaling=1.0,\n",
       "           max_iter=100, multi_class='multinomial', n_jobs=-1,\n",
       "           penalty='l2', random_state=None, refit=True, scoring='accuracy',\n",
       "           solver='sag', tol=0.0001, verbose=1)"
      ]
     },
     "execution_count": 26,
     "metadata": {},
     "output_type": "execute_result"
    }
   ],
   "source": [
    "n2v_log_reg.fit(X_train_n2v, Y_train_n2v)"
   ]
  },
  {
   "cell_type": "code",
   "execution_count": 37,
   "metadata": {},
   "outputs": [
    {
     "name": "stdout",
     "output_type": "stream",
     "text": [
      "convergence after 81 epochs took 76 seconds\n",
      "convergence after 83 epochs took 77 seconds\n",
      "convergence after 84 epochs took 80 seconds\n",
      "max_iter reached after 94 seconds\n",
      "max_iter reached after 95 seconds\n",
      "max_iter reached after 96 seconds\n",
      "max_iter reached after 87 seconds\n",
      "max_iter reached after 89 seconds\n",
      "max_iter reached after 91 seconds\n",
      "max_iter reached after 89 seconds\n",
      "max_iter reached after 91 seconds\n",
      "max_iter reached after 93 seconds\n",
      "max_iter reached after 118 seconds\n",
      "max_iter reached after 119 seconds\n",
      "max_iter reached after 120 seconds\n"
     ]
    },
    {
     "name": "stderr",
     "output_type": "stream",
     "text": [
      "[Parallel(n_jobs=-1)]: Done   3 out of   3 | elapsed:  8.0min finished\n"
     ]
    },
    {
     "data": {
      "text/plain": [
       "LogisticRegressionCV(Cs=[0.01, 0.1, 1, 10, 100], class_weight=None, cv=None,\n",
       "           dual=False, fit_intercept=True, intercept_scaling=1.0,\n",
       "           max_iter=100, multi_class='multinomial', n_jobs=-1,\n",
       "           penalty='l2', random_state=None, refit=True, scoring='accuracy',\n",
       "           solver='sag', tol=0.0001, verbose=1)"
      ]
     },
     "execution_count": 37,
     "metadata": {},
     "output_type": "execute_result"
    }
   ],
   "source": [
    "both_log_reg.fit(X_train_both, Y_train_both)"
   ]
  },
  {
   "cell_type": "code",
   "execution_count": 38,
   "metadata": {
    "collapsed": true
   },
   "outputs": [],
   "source": [
    "import pickle\n",
    "pickle.dump(d2v_log_reg, open('../data/d2v_log_reg_first.pickle', 'wb'))\n",
    "pickle.dump(n2v_log_reg, open('../data/n2v_log_reg_first.pickle', 'wb'))\n",
    "pickle.dump(both_log_reg, open('../data/both_log_reg_first.pickle', 'wb'))"
   ]
  },
  {
   "cell_type": "code",
   "execution_count": 39,
   "metadata": {},
   "outputs": [
    {
     "name": "stdout",
     "output_type": "stream",
     "text": [
      "0.695367450885\n"
     ]
    }
   ],
   "source": [
    "print(d2v_log_reg.score(X_test_d2v,Y_test_d2v))"
   ]
  },
  {
   "cell_type": "code",
   "execution_count": 40,
   "metadata": {},
   "outputs": [
    {
     "name": "stdout",
     "output_type": "stream",
     "text": [
      "0.58088056434\n"
     ]
    }
   ],
   "source": [
    "print(n2v_log_reg.score(X_test_n2v,Y_test_n2v))"
   ]
  },
  {
   "cell_type": "code",
   "execution_count": 41,
   "metadata": {},
   "outputs": [
    {
     "name": "stdout",
     "output_type": "stream",
     "text": [
      "0.686393402862\n"
     ]
    }
   ],
   "source": [
    "print(both_log_reg.score(X_test_both,Y_test_both))"
   ]
  },
  {
   "cell_type": "code",
   "execution_count": 51,
   "metadata": {},
   "outputs": [
    {
     "name": "stdout",
     "output_type": "stream",
     "text": [
      "Proportion of first 300 sorted coefficients that are doc2vec's: 154\n",
      "Proportion of first 300 sorted coefficients that are node2vec's: 146\n"
     ]
    }
   ],
   "source": [
    "importance = sorted([_ for _ in range(len(both_log_reg.coef_[0]))], key = lambda x: both_log_reg.coef_[0][x])\n",
    "print('Proportion of first 300 sorted coefficients that are doc2vec\\'s:',sum([1 for i in importance[:300] if i<300]))\n",
    "print('Proportion of first 300 sorted coefficients that are node2vec\\'s:',sum([1 for i in importance[:300] if i>=300]))"
   ]
  },
  {
   "cell_type": "code",
   "execution_count": 43,
   "metadata": {
    "collapsed": true,
    "scrolled": true
   },
   "outputs": [],
   "source": [
    "TESTING = False\n",
    "if TESTING:\n",
    "    x = [[random.uniform(0,100) for _ in range(300)] for _i_ in range(3000)]\n",
    "    y = [int(random.uniform(0,1) > 0.5) for _ in range(3000)]\n",
    "    a = LogisticRegressionCV([.01,.1,1,10,100],\n",
    "                             penalty='l2',\n",
    "                             scoring='accuracy',\n",
    "                             solver='sag',\n",
    "                             n_jobs=-1,\n",
    "                             verbose=1,\n",
    "                             refit=True,\n",
    "                             multi_class='multinomial'\n",
    "                            )\n",
    "    a.fit(x,y)"
   ]
  },
  {
   "cell_type": "code",
   "execution_count": null,
   "metadata": {
    "collapsed": true
   },
   "outputs": [],
   "source": []
  }
 ],
 "metadata": {
  "kernelspec": {
   "display_name": "Python 3",
   "language": "python",
   "name": "python3"
  },
  "language_info": {
   "codemirror_mode": {
    "name": "ipython",
    "version": 3
   },
   "file_extension": ".py",
   "mimetype": "text/x-python",
   "name": "python",
   "nbconvert_exporter": "python",
   "pygments_lexer": "ipython3",
   "version": "3.6.1"
  }
 },
 "nbformat": 4,
 "nbformat_minor": 2
}
