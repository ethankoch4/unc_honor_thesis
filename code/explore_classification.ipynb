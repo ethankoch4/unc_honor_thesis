{
 "cells": [
  {
   "cell_type": "code",
   "execution_count": 1,
   "metadata": {},
   "outputs": [
    {
     "name": "stderr",
     "output_type": "stream",
     "text": [
      "C:\\Users\\nebboy4\\Anaconda3\\envs\\github_env\\lib\\site-packages\\gensim\\utils.py:860: UserWarning: detected Windows; aliasing chunkize to chunkize_serial\n",
      "  warnings.warn(\"detected Windows; aliasing chunkize to chunkize_serial\")\n"
     ]
    }
   ],
   "source": [
    "from gensim import models\n",
    "from sklearn.linear_model import LogisticRegressionCV\n",
    "from doc2vec.doc2vec import doc2vec"
   ]
  },
  {
   "cell_type": "markdown",
   "metadata": {},
   "source": [
    "# Load Doc2Vec Model & Get Vectors"
   ]
  },
  {
   "cell_type": "code",
   "execution_count": 2,
   "metadata": {},
   "outputs": [],
   "source": [
    "d2v_model = doc2vec(model=models.Doc2Vec.load(\"../data/scotus/scotus_model.doc2vec\"),label_docs=False)"
   ]
  },
  {
   "cell_type": "code",
   "execution_count": 3,
   "metadata": {
    "collapsed": true
   },
   "outputs": [],
   "source": [
    "embeddings = d2v_model.model.docvecs"
   ]
  },
  {
   "cell_type": "code",
   "execution_count": 4,
   "metadata": {},
   "outputs": [
    {
     "name": "stdout",
     "output_type": "stream",
     "text": [
      "complete\n"
     ]
    }
   ],
   "source": [
    "names = []\n",
    "vectors = []\n",
    "for tag,_ in embeddings.doctags.items():\n",
    "    names.append(tag)\n",
    "    vectors.append(embeddings[tag].tolist())\n",
    "print('complete')"
   ]
  },
  {
   "cell_type": "code",
   "execution_count": 5,
   "metadata": {
    "collapsed": true
   },
   "outputs": [],
   "source": [
    "import random"
   ]
  },
  {
   "cell_type": "code",
   "execution_count": 6,
   "metadata": {},
   "outputs": [],
   "source": [
    "x = [[random.uniform(0,100) for _ in range(300)] for _i_ in range(30000)]\n",
    "y = [int(random.uniform(0,1) > 0.5) for _ in range(30000)]\n",
    "a = LogisticRegressionCV([0.25,0.5,1.0,2.0,10.0,100.0],\n",
    "                         penalty='l2',\n",
    "                         scoring='accuracy',\n",
    "                         solver='sag',\n",
    "                         n_jobs=-1,\n",
    "                         verbose=1,\n",
    "                         refit=True,\n",
    "                         multi_class='multinomial'\n",
    "                        )"
   ]
  },
  {
   "cell_type": "code",
   "execution_count": 7,
   "metadata": {},
   "outputs": [
    {
     "name": "stdout",
     "output_type": "stream",
     "text": [
      "max_iter reached after 22 seconds\n",
      "max_iter reached after 22 seconds\n",
      "max_iter reached after 23 seconds\n",
      "max_iter reached after 30 seconds\n",
      "max_iter reached after 31 seconds\n",
      "max_iter reached after 31 seconds\n",
      "max_iter reached after 25 seconds\n",
      "max_iter reached after 24 seconds\n",
      "max_iter reached after 24 seconds\n",
      "max_iter reached after 21 seconds\n",
      "max_iter reached after 22 seconds\n",
      "max_iter reached after 22 seconds\n",
      "max_iter reached after 24 seconds\n",
      "max_iter reached after 23 seconds\n",
      "max_iter reached after 23 seconds\n",
      "max_iter reached after 21 seconds\n",
      "max_iter reached after 21 seconds\n",
      "max_iter reached after 21 seconds\n"
     ]
    },
    {
     "name": "stderr",
     "output_type": "stream",
     "text": [
      "[Parallel(n_jobs=-1)]: Done   3 out of   3 | elapsed:  2.4min finished\n"
     ]
    },
    {
     "data": {
      "text/plain": [
       "LogisticRegressionCV(Cs=[0.25, 0.5, 1.0, 2.0, 10.0, 100.0], class_weight=None,\n",
       "           cv=None, dual=False, fit_intercept=True, intercept_scaling=1.0,\n",
       "           max_iter=100, multi_class='multinomial', n_jobs=-1,\n",
       "           penalty='l2', random_state=None, refit=True, scoring='accuracy',\n",
       "           solver='sag', tol=0.0001, verbose=1)"
      ]
     },
     "execution_count": 7,
     "metadata": {},
     "output_type": "execute_result"
    }
   ],
   "source": [
    "a.fit(x,y)"
   ]
  },
  {
   "cell_type": "code",
   "execution_count": null,
   "metadata": {
    "collapsed": true
   },
   "outputs": [],
   "source": []
  }
 ],
 "metadata": {
  "kernelspec": {
   "display_name": "Python 3",
   "language": "python",
   "name": "python3"
  },
  "language_info": {
   "codemirror_mode": {
    "name": "ipython",
    "version": 3
   },
   "file_extension": ".py",
   "mimetype": "text/x-python",
   "name": "python",
   "nbconvert_exporter": "python",
   "pygments_lexer": "ipython3",
   "version": "3.6.1"
  }
 },
 "nbformat": 4,
 "nbformat_minor": 2
}
