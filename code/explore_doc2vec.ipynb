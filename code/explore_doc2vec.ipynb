{
 "cells": [
  {
   "cell_type": "markdown",
   "metadata": {},
   "source": [
    "## Imports"
   ]
  },
  {
   "cell_type": "code",
   "execution_count": 1,
   "metadata": {},
   "outputs": [
    {
     "name": "stderr",
     "output_type": "stream",
     "text": [
      "c:\\users\\quantworks\\miniconda3\\envs\\git_env\\lib\\site-packages\\gensim\\utils.py:1167: UserWarning: detected Windows; aliasing chunkize to chunkize_serial\n",
      "  warnings.warn(\"detected Windows; aliasing chunkize to chunkize_serial\")\n"
     ]
    }
   ],
   "source": [
    "from gensim import models"
   ]
  },
  {
   "cell_type": "code",
   "execution_count": 2,
   "metadata": {
    "collapsed": true
   },
   "outputs": [],
   "source": [
    "from doc2vec.doc2vec import doc2vec\n",
    "from utilities import load_scotus_network\n",
    "from utilities import get_name_to_date\n",
    "from utilities import get_list_of_docs"
   ]
  },
  {
   "cell_type": "markdown",
   "metadata": {},
   "source": [
    "## Train Doc2Vec Model and Save"
   ]
  },
  {
   "cell_type": "code",
   "execution_count": 3,
   "metadata": {
    "collapsed": true
   },
   "outputs": [],
   "source": [
    "# so I don't accidentally start training again\n",
    "NOT_YET_TRAINED = False\n",
    "if NOT_YET_TRAINED:\n",
    "    doc_list, names = get_list_of_docs(dir_path='../data/scotus/textfiles/*.txt')\n",
    "    Doc2vec = doc2vec(doc_list=doc_list,names=names)\n",
    "    Doc2vec.run_doc2vec()\n",
    "    del Doc2vec"
   ]
  },
  {
   "cell_type": "markdown",
   "metadata": {},
   "source": [
    "## Load Doc2Vec and Plot Similarity"
   ]
  },
  {
   "cell_type": "code",
   "execution_count": 4,
   "metadata": {
    "collapsed": true
   },
   "outputs": [],
   "source": [
    "d2v_model = doc2vec(model=models.Doc2Vec.load(\"../data/scotus_model.doc2vec\"),label_docs=False)"
   ]
  },
  {
   "cell_type": "code",
   "execution_count": 5,
   "metadata": {},
   "outputs": [
    {
     "name": "stdout",
     "output_type": "stream",
     "text": [
      "FUNCTION NOT FULLY TESTED: load_scotus_network\n"
     ]
    }
   ],
   "source": [
    "G, issue_areas = load_scotus_network(file_path=\"../data/scotus_network.graphml\")"
   ]
  },
  {
   "cell_type": "code",
   "execution_count": 6,
   "metadata": {},
   "outputs": [
    {
     "name": "stdout",
     "output_type": "stream",
     "text": [
      "27885\n"
     ]
    }
   ],
   "source": [
    "dates = get_name_to_date(G)\n",
    "print(len(dates))"
   ]
  },
  {
   "cell_type": "code",
   "execution_count": 7,
   "metadata": {
    "scrolled": true
   },
   "outputs": [
    {
     "name": "stdout",
     "output_type": "stream",
     "text": [
      "Are the dates how we expect?\n",
      "<class 'str'> 102855 -- 1937 <class 'int'>\n",
      "<class 'str'> 94410 -- 1896 <class 'int'>\n",
      "<class 'str'> 95969 -- 1903 <class 'int'>\n",
      "<class 'str'> 91970 -- 1887 <class 'int'>\n",
      "<class 'str'> 104056 -- 1945 <class 'int'>\n",
      "<class 'str'> 87707 -- 1866 <class 'int'>\n",
      "<class 'str'> 112920 -- 1994 <class 'int'>\n",
      "<class 'str'> 92530 -- 1889 <class 'int'>\n",
      "<class 'str'> 87167 -- 1858 <class 'int'>\n",
      "<class 'str'> 109946 -- 1978 <class 'int'>\n",
      "Are the names how we expect?\n",
      "Yes! The names are all perfectly fine.\n"
     ]
    }
   ],
   "source": [
    "print('Are the dates how we expect?')\n",
    "for key in list(dates.keys())[:10]:\n",
    "    print(type(key),key,'--',dates[key],type(dates[key]))\n",
    "\n",
    "print('Are the names how we expect?')\n",
    "wrong = []\n",
    "for v in G.nodes:\n",
    "    if type(G.nodes[v][\"name\"])!=str:\n",
    "        wrong.append(v)\n",
    "if len(wrong) > 0:\n",
    "    print('The ones with non-string labels are:\\n',wrong)\n",
    "else:\n",
    "    print('Yes! The names are all perfectly fine.')\n",
    "        "
   ]
  },
  {
   "cell_type": "code",
   "execution_count": 8,
   "metadata": {
    "collapsed": true,
    "scrolled": true
   },
   "outputs": [],
   "source": [
    "# so I don't accidentally plot every single case's similarity plot\n",
    "PLOT_ALL_CASES = False\n",
    "if PLOT_ALL_CASES:\n",
    "    for case_name in G.vs[\"name\"][:len(G.vs)//10]:\n",
    "        d2v_model.similarity_time_plot(case_name,name_to_year=dates,fig_size=(30,15),num_to_plot=27884,outname='../plots/similarity_plots/'+str(case_name)+'_similarity_plot.png')"
   ]
  },
  {
   "cell_type": "code",
   "execution_count": 9,
   "metadata": {
    "collapsed": true
   },
   "outputs": [],
   "source": [
    "# Roe v. Wade as an example\n",
    "# d2v_model.similarity_time_plot(\"108713\",show=True,name_to_year=dates,fig_size=(30,15),num_to_plot=27884,outname='../plots/similarity_plots/'+str(case_name)+'_similarity_plot.png')"
   ]
  },
  {
   "cell_type": "markdown",
   "metadata": {},
   "source": [
    "# Issue Area Clustering"
   ]
  },
  {
   "cell_type": "code",
   "execution_count": 10,
   "metadata": {
    "collapsed": true
   },
   "outputs": [],
   "source": [
    "import numpy as np"
   ]
  },
  {
   "cell_type": "code",
   "execution_count": 11,
   "metadata": {},
   "outputs": [
    {
     "name": "stdout",
     "output_type": "stream",
     "text": [
      "Key :  0    Length(list at key):  0\n",
      "Key :  1    Length(list at key):  32\n",
      "Key :  2    Length(list at key):  29\n",
      "Key :  3    Length(list at key):  11\n",
      "Key :  4    Length(list at key):  17\n",
      "Key :  5    Length(list at key):  1\n",
      "Key :  6    Length(list at key):  3\n",
      "Key :  7    Length(list at key):  7\n",
      "Total:  100\n",
      "Number of keys of name_to_ia:  100\n",
      "The above two numbers should be equal.\n"
     ]
    }
   ],
   "source": [
    "# to save time\n",
    "SHORTEN = True\n",
    "if SHORTEN:\n",
    "    IA = 8\n",
    "else:\n",
    "    IA = 15\n",
    "    \n",
    "nodes = np.random.permutation([n for n in G.nodes])\n",
    "\n",
    "ia_to_name = {i : [] for i in range(IA)}\n",
    "name_to_ia = {}\n",
    "i = 0\n",
    "for n in nodes:\n",
    "    ia = int(float(G.nodes[n]['issueArea']))\n",
    "    if SHORTEN:\n",
    "        if i > 99:\n",
    "            break\n",
    "    if SHORTEN:\n",
    "        if ia > 7:\n",
    "            continue\n",
    "    ia_to_name[ia].append(n)\n",
    "    name_to_ia[n] = ia\n",
    "    i+=1\n",
    "\n",
    "total = 0\n",
    "for k in list(ia_to_name.keys()):\n",
    "    print('Key : ',k,\" \"*(3-len(str(k))),'Length(list at key): ',len(ia_to_name[k]))\n",
    "    total += len(ia_to_name[k])\n",
    "    \n",
    "print('Total: ',total)\n",
    "\n",
    "print('Number of keys of name_to_ia: ',len(name_to_ia.keys()))\n",
    "print('The above two numbers should be equal.')"
   ]
  },
  {
   "cell_type": "code",
   "execution_count": 12,
   "metadata": {},
   "outputs": [
    {
     "name": "stdout",
     "output_type": "stream",
     "text": [
      "102855\n"
     ]
    }
   ],
   "source": [
    "for v in G.nodes:\n",
    "    print(v)\n",
    "    break"
   ]
  },
  {
   "cell_type": "code",
   "execution_count": 13,
   "metadata": {
    "collapsed": true
   },
   "outputs": [],
   "source": [
    "# ia clustering\n",
    "d2v_model.run_clustering(n_clusters=len(set(ia_to_name.keys())),labels_dict=name_to_ia,evaluate=True)"
   ]
  },
  {
   "cell_type": "code",
   "execution_count": 15,
   "metadata": {
    "collapsed": true
   },
   "outputs": [],
   "source": [
    "# non_ia clustering\n",
    "d2v_model.run_clustering(n_clusters=2,nodes=list(name_to_ia.keys()),evaluate=False)"
   ]
  },
  {
   "cell_type": "code",
   "execution_count": 16,
   "metadata": {
    "collapsed": true
   },
   "outputs": [],
   "source": [
    "d2v_model.run_clustering(n_clusters=3,nodes=list(name_to_ia.keys()),evaluate=False)"
   ]
  },
  {
   "cell_type": "code",
   "execution_count": null,
   "metadata": {
    "collapsed": true
   },
   "outputs": [],
   "source": []
  }
 ],
 "metadata": {
  "kernelspec": {
   "display_name": "Python 3",
   "language": "python",
   "name": "python3"
  },
  "language_info": {
   "codemirror_mode": {
    "name": "ipython",
    "version": 3
   },
   "file_extension": ".py",
   "mimetype": "text/x-python",
   "name": "python",
   "nbconvert_exporter": "python",
   "pygments_lexer": "ipython3",
   "version": "3.6.1"
  }
 },
 "nbformat": 4,
 "nbformat_minor": 1
}
