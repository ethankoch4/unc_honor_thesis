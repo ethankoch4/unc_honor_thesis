{
 "cells": [
  {
   "cell_type": "markdown",
   "metadata": {},
   "source": [
    "## Imports"
   ]
  },
  {
   "cell_type": "code",
   "execution_count": 1,
   "metadata": {},
   "outputs": [
    {
     "name": "stderr",
     "output_type": "stream",
     "text": [
      "c:\\users\\quantworks\\miniconda3\\envs\\git_env\\lib\\site-packages\\gensim\\utils.py:1167: UserWarning: detected Windows; aliasing chunkize to chunkize_serial\n",
      "  warnings.warn(\"detected Windows; aliasing chunkize to chunkize_serial\")\n"
     ]
    }
   ],
   "source": [
    "from gensim import models"
   ]
  },
  {
   "cell_type": "code",
   "execution_count": 2,
   "metadata": {},
   "outputs": [],
   "source": [
    "from doc2vec.doc2vec import doc2vec\n",
    "from utilities import load_scotus_network\n",
    "from utilities import get_name_to_date\n",
    "from utilities import get_list_of_docs"
   ]
  },
  {
   "cell_type": "markdown",
   "metadata": {},
   "source": [
    "## Train Doc2Vec Model and Save"
   ]
  },
  {
   "cell_type": "code",
   "execution_count": 3,
   "metadata": {},
   "outputs": [],
   "source": [
    "# so I don't accidentally start training again\n",
    "NOT_YET_TRAINED = False\n",
    "if NOT_YET_TRAINED:\n",
    "    doc_list, names = get_list_of_docs(dir_path='../data/scotus/textfiles/*.txt')\n",
    "    Doc2vec = doc2vec(doc_list=doc_list,names=names)\n",
    "    Doc2vec.run_doc2vec()\n",
    "    del Doc2vec"
   ]
  },
  {
   "cell_type": "markdown",
   "metadata": {},
   "source": [
    "## Load Doc2Vec and Plot Similarity"
   ]
  },
  {
   "cell_type": "code",
   "execution_count": 4,
   "metadata": {},
   "outputs": [],
   "source": [
    "d2v_model = doc2vec(model=models.Doc2Vec.load(\"../data/scotus_model.doc2vec\"),label_docs=False)"
   ]
  },
  {
   "cell_type": "code",
   "execution_count": 5,
   "metadata": {},
   "outputs": [
    {
     "name": "stdout",
     "output_type": "stream",
     "text": [
      "FUNCTION NOT FULLY TESTED: load_scotus_network\n"
     ]
    }
   ],
   "source": [
    "G, issue_areas = load_scotus_network(file_path=\"../data/scotus_network.graphml\")"
   ]
  },
  {
   "cell_type": "code",
   "execution_count": 6,
   "metadata": {},
   "outputs": [
    {
     "name": "stdout",
     "output_type": "stream",
     "text": [
      "27885\n"
     ]
    }
   ],
   "source": [
    "dates = get_name_to_date(G)\n",
    "print(len(dates))"
   ]
  },
  {
   "cell_type": "code",
   "execution_count": 7,
   "metadata": {
    "scrolled": true
   },
   "outputs": [
    {
     "name": "stdout",
     "output_type": "stream",
     "text": [
      "Are the dates how we expect?\n",
      "<class 'str'> 87122 -- 1857 <class 'int'>\n",
      "<class 'str'> 105799 -- 1958 <class 'int'>\n",
      "<class 'str'> 105102 -- 1953 <class 'int'>\n",
      "<class 'str'> 95658 -- 1902 <class 'int'>\n",
      "<class 'str'> 88008 -- 1869 <class 'int'>\n",
      "<class 'str'> 110976 -- 1983 <class 'int'>\n",
      "<class 'str'> 87845 -- 1867 <class 'int'>\n",
      "<class 'str'> 98228 -- 1914 <class 'int'>\n",
      "<class 'str'> 86741 -- 1852 <class 'int'>\n",
      "<class 'str'> 95837 -- 1903 <class 'int'>\n",
      "Are the names how we expect?\n",
      "Yes! The names are all perfectly fine.\n"
     ]
    }
   ],
   "source": [
    "print('Are the dates how we expect?')\n",
    "for key in list(dates.keys())[:10]:\n",
    "    print(type(key),key,'--',dates[key],type(dates[key]))\n",
    "\n",
    "print('Are the names how we expect?')\n",
    "wrong = []\n",
    "for v in G.nodes:\n",
    "    if type(G.nodes[v][\"name\"])!=str:\n",
    "        wrong.append(v)\n",
    "if len(wrong) > 0:\n",
    "    print('The ones with non-string labels are:\\n',wrong)\n",
    "else:\n",
    "    print('Yes! The names are all perfectly fine.')\n",
    "        "
   ]
  },
  {
   "cell_type": "code",
   "execution_count": 8,
   "metadata": {
    "scrolled": true
   },
   "outputs": [],
   "source": [
    "# so I don't accidentally plot every single case's similarity plot\n",
    "PLOT_ALL_CASES = False\n",
    "if PLOT_ALL_CASES:\n",
    "    for case_name in G.vs[\"name\"][:len(G.vs)//10]:\n",
    "        d2v_model.similarity_time_plot(case_name,name_to_year=dates,fig_size=(30,15),num_to_plot=27884,outname='../plots/similarity_plots/'+str(case_name)+'_similarity_plot.png')"
   ]
  },
  {
   "cell_type": "code",
   "execution_count": 9,
   "metadata": {},
   "outputs": [],
   "source": [
    "# Roe v. Wade as an example\n",
    "# d2v_model.similarity_time_plot(\"108713\",show=True,name_to_year=dates,fig_size=(30,15),num_to_plot=27884,outname='../plots/similarity_plots/'+str(case_name)+'_similarity_plot.png')"
   ]
  },
  {
   "cell_type": "markdown",
   "metadata": {},
   "source": [
    "# Issue Area Clustering"
   ]
  },
  {
   "cell_type": "code",
   "execution_count": 10,
   "metadata": {},
   "outputs": [],
   "source": [
    "import numpy as np"
   ]
  },
  {
   "cell_type": "code",
   "execution_count": 11,
   "metadata": {},
   "outputs": [
    {
     "name": "stdout",
     "output_type": "stream",
     "text": [
      "Key :  0    Length(list at key):  1\n",
      "Key :  1    Length(list at key):  9\n",
      "Key :  2    Length(list at key):  5\n",
      "Key :  3    Length(list at key):  3\n",
      "Key :  4    Length(list at key):  4\n",
      "Key :  5    Length(list at key):  0\n",
      "Key :  6    Length(list at key):  0\n",
      "Key :  7    Length(list at key):  0\n",
      "Key :  8    Length(list at key):  30\n",
      "Key :  9    Length(list at key):  16\n",
      "Key :  10   Length(list at key):  3\n",
      "Key :  11   Length(list at key):  3\n",
      "Key :  12   Length(list at key):  8\n",
      "Key :  13   Length(list at key):  0\n",
      "Key :  14   Length(list at key):  18\n",
      "Total:  100\n",
      "Number of keys of name_to_ia:  100\n",
      "The above two numbers should be equal.\n"
     ]
    }
   ],
   "source": [
    "nodes = np.random.permutation([n for n in G.nodes])\n",
    "\n",
    "ia_to_name = {i : [] for i in range(15)}\n",
    "name_to_ia = {}\n",
    "i = 0\n",
    "for n in nodes:\n",
    "    if i > 99:\n",
    "        break\n",
    "    ia = int(float(G.nodes[n]['issueArea']))\n",
    "    ia_to_name[ia].append(n)\n",
    "    name_to_ia[n] = ia\n",
    "    i+=1\n",
    "\n",
    "total = 0\n",
    "for k in list(ia_to_name.keys()):\n",
    "    print('Key : ',k,\" \"*(3-len(str(k))),'Length(list at key): ',len(ia_to_name[k]))\n",
    "    total += len(ia_to_name[k])\n",
    "    \n",
    "print('Total: ',total)\n",
    "\n",
    "print('Number of keys of name_to_ia: ',len(name_to_ia.keys()))\n",
    "print('The above two numbers should be equal.')"
   ]
  },
  {
   "cell_type": "code",
   "execution_count": 12,
   "metadata": {},
   "outputs": [
    {
     "name": "stdout",
     "output_type": "stream",
     "text": [
      "87122\n"
     ]
    }
   ],
   "source": [
    "for v in G.nodes:\n",
    "    print(v)\n",
    "    break"
   ]
  },
  {
   "cell_type": "code",
   "execution_count": null,
   "metadata": {},
   "outputs": [],
   "source": [
    "d2v_model.run_clustering(n_clusters=len(set(ia_to_name.keys())),labels_dict=name_to_ia,evaluate=True)"
   ]
  },
  {
   "cell_type": "code",
   "execution_count": null,
   "metadata": {},
   "outputs": [],
   "source": [
    "a ={4,5}\n",
    "b = {4,6}"
   ]
  },
  {
   "cell_type": "code",
   "execution_count": null,
   "metadata": {},
   "outputs": [],
   "source": [
    "for _ in a.union(b):\n",
    "    print(_)"
   ]
  },
  {
   "cell_type": "code",
   "execution_count": null,
   "metadata": {},
   "outputs": [],
   "source": []
  }
 ],
 "metadata": {
  "kernelspec": {
   "display_name": "Python 3",
   "language": "python",
   "name": "python3"
  },
  "language_info": {
   "codemirror_mode": {
    "name": "ipython",
    "version": 3
   },
   "file_extension": ".py",
   "mimetype": "text/x-python",
   "name": "python",
   "nbconvert_exporter": "python",
   "pygments_lexer": "ipython3",
   "version": "3.5.4"
  }
 },
 "nbformat": 4,
 "nbformat_minor": 1
}
