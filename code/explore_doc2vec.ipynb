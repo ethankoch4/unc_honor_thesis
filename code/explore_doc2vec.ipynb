{
 "cells": [
  {
   "cell_type": "markdown",
   "metadata": {},
   "source": [
    "## Imports"
   ]
  },
  {
   "cell_type": "code",
   "execution_count": 1,
   "metadata": {
    "collapsed": false
   },
   "outputs": [
    {
     "name": "stderr",
     "output_type": "stream",
     "text": [
      "C:\\Users\\nebboy4\\Anaconda3\\lib\\site-packages\\gensim\\utils.py:855: UserWarning: detected Windows; aliasing chunkize to chunkize_serial\n",
      "  warnings.warn(\"detected Windows; aliasing chunkize to chunkize_serial\")\n"
     ]
    }
   ],
   "source": [
    "from gensim import models"
   ]
  },
  {
   "cell_type": "code",
   "execution_count": 2,
   "metadata": {
    "collapsed": true
   },
   "outputs": [],
   "source": [
    "from doc2vec.doc2vec import doc2vec\n",
    "from utilities import load_scotus_network\n",
    "from utilities import get_name_to_date\n",
    "from utilities import get_list_of_docs"
   ]
  },
  {
   "cell_type": "markdown",
   "metadata": {},
   "source": [
    "## Train Doc2Vec Model and Save"
   ]
  },
  {
   "cell_type": "code",
   "execution_count": 3,
   "metadata": {
    "collapsed": true
   },
   "outputs": [],
   "source": [
    "# so I don't accidentally start training again\n",
    "NOT_YET_TRAINED = False\n",
    "if NOT_YET_TRAINED:\n",
    "    doc_list, names = get_list_of_docs(dir_path='../data/scotus/textfiles/*.txt')\n",
    "    Doc2vec = doc2vec(doc_list=doc_list,names=names)\n",
    "    Doc2vec.run_doc2vec()\n",
    "    del Doc2vec"
   ]
  },
  {
   "cell_type": "markdown",
   "metadata": {},
   "source": [
    "## Load Doc2Vec and Plot Similarity"
   ]
  },
  {
   "cell_type": "code",
   "execution_count": 4,
   "metadata": {
    "collapsed": false
   },
   "outputs": [],
   "source": [
    "d2v_model = doc2vec(model=models.Doc2Vec.load(\"../data/scotus/scotus_model.doc2vec\"),label_docs=False)"
   ]
  },
  {
   "cell_type": "code",
   "execution_count": 5,
   "metadata": {
    "collapsed": false
   },
   "outputs": [
    {
     "name": "stdout",
     "output_type": "stream",
     "text": [
      "FUNCTION NOT FULLY TESTED: load_scotus_network\n"
     ]
    }
   ],
   "source": [
    "G, issue_areas = load_scotus_network(file_path=\"../data/scotus/scotus_network.graphml\")"
   ]
  },
  {
   "cell_type": "code",
   "execution_count": 6,
   "metadata": {
    "collapsed": false
   },
   "outputs": [
    {
     "name": "stdout",
     "output_type": "stream",
     "text": [
      "27885\n"
     ]
    }
   ],
   "source": [
    "dates = get_name_to_date(G)\n",
    "print(len(dates))"
   ]
  },
  {
   "cell_type": "code",
   "execution_count": 11,
   "metadata": {
    "collapsed": false,
    "scrolled": true
   },
   "outputs": [
    {
     "name": "stdout",
     "output_type": "stream",
     "text": [
      "Are the dates how we expect?\n",
      "<class 'str'> 89163 -- 1876 <class 'int'>\n",
      "<class 'str'> 103130 -- 1939 <class 'int'>\n",
      "<class 'str'> 90528 -- 1882 <class 'int'>\n",
      "<class 'str'> 85642 -- 1829 <class 'int'>\n",
      "<class 'str'> 108841 -- 1973 <class 'int'>\n",
      "<class 'str'> 91539 -- 1886 <class 'int'>\n",
      "<class 'str'> 87404 -- 1861 <class 'int'>\n",
      "<class 'str'> 110942 -- 1983 <class 'int'>\n",
      "<class 'str'> 86986 -- 1856 <class 'int'>\n",
      "<class 'str'> 118499 -- 2002 <class 'int'>\n",
      "Are the names how we expect?\n"
     ]
    }
   ],
   "source": [
    "print('Are the dates how we expect?')\n",
    "for key in list(dates.keys())[:10]:\n",
    "    print(type(key),key,'--',dates[key],type(dates[key]))\n",
    "\n",
    "print('Are the names how we expect?')\n",
    "for v in G.vs:\n",
    "    if type(v[\"name\"])!=str:\n",
    "        print(v)"
   ]
  },
  {
   "cell_type": "code",
   "execution_count": 12,
   "metadata": {
    "collapsed": false,
    "scrolled": true
   },
   "outputs": [],
   "source": [
    "# so I don't accidentally plot every single case's similarity plot\n",
    "PLOT_ALL_CASES = False\n",
    "if PLOT_ALL_CASES:\n",
    "    for case_name in G.vs[\"name\"][:len(G.vs)//10]:\n",
    "        d2v_model.similarity_time_plot(case_name,name_to_year=dates,fig_size=(30,15),num_to_plot=27884,outname='../plots/similarity_plots/'+str(case_name)+'_similarity_plot.png')"
   ]
  },
  {
   "cell_type": "code",
   "execution_count": 13,
   "metadata": {
    "collapsed": true
   },
   "outputs": [],
   "source": [
    "# Roe v. Wade as an example\n",
    "d2v_model.similarity_time_plot(\"108713\",show=True,name_to_year=dates,fig_size=(30,15),num_to_plot=27884,outname='../plots/similarity_plots/'+str(case_name)+'_similarity_plot.png')"
   ]
  },
  {
   "cell_type": "code",
   "execution_count": null,
   "metadata": {
    "collapsed": true
   },
   "outputs": [],
   "source": []
  }
 ],
 "metadata": {
  "kernelspec": {
   "display_name": "Python 3",
   "language": "python",
   "name": "python3"
  }
 },
 "nbformat": 4,
 "nbformat_minor": 0
}
